{
  "nbformat": 4,
  "nbformat_minor": 0,
  "metadata": {
    "colab": {
      "provenance": []
    },
    "kernelspec": {
      "name": "python3",
      "display_name": "Python 3"
    },
    "language_info": {
      "name": "python"
    }
  },
  "cells": [
    {
      "cell_type": "markdown",
      "source": [
        "Instruções para entrega\n",
        "# 1️⃣ Desafio Classificador de nível de Herói\n",
        "\n",
        "**O Que deve ser utilizado**\n",
        "\n",
        "- Variáveis\n",
        "- Operadores\n",
        "- Laços de repetição\n",
        "- Estruturas de decisões\n",
        "\n",
        "## Objetivo\n",
        "\n",
        "Crie uma variável para armazenar o nome e a quantidade de experiência (XP) de um herói, depois utilize uma estrutura de decisão para apresentar alguma das mensagens abaixo:\n",
        "\n",
        "- Se XP for menor do que 1.000 = Ferro\n",
        "- Se XP for entre 1.001 e 2.000 = Bronze\n",
        "- Se XP for entre 2.001 e 5.000 = Prata\n",
        "- Se XP for entre 5.001 e 7.000 = Ouro\n",
        "- Se XP for entre 7.001 e 8.000 = Platina\n",
        "- Se XP for entre 8.001 e 9.000 = Ascendente\n",
        "- Se XP for entre 9.001 e 10.000= Imortal\n",
        "- Se XP for maior ou igual a 10.001 = Radiante\n",
        "\n",
        "## Saída\n",
        "\n",
        "Ao final deve se exibir uma mensagem:\n",
        "\"O Herói de nome **{nome}** está no nível de **{nivel}**\""
      ],
      "metadata": {
        "id": "3nj-xTP2VJmw"
      }
    },
    {
      "cell_type": "code",
      "source": [
        "# Iniciando as variáveis\n",
        "\n",
        "HeroName = \"\"\n",
        "HeroXP = 0\n",
        "HeroLevel = \"\"\n",
        "\n",
        "print(HeroName)\n",
        "print(HeroXP)\n",
        "print(HeroLevel)"
      ],
      "metadata": {
        "colab": {
          "base_uri": "https://localhost:8080/"
        },
        "id": "EVHPhZLmVGbb",
        "outputId": "f19b3599-65c2-4e74-ab89-98e35593a6f4"
      },
      "execution_count": 7,
      "outputs": [
        {
          "output_type": "stream",
          "name": "stdout",
          "text": [
            "\n",
            "0\n",
            "\n"
          ]
        }
      ]
    },
    {
      "cell_type": "code",
      "source": [
        "def GetHeroLevel(xp):\n",
        "  level = \"\"\n",
        "  if xp <= 1000:\n",
        "    level = \"Ferro\"\n",
        "  elif xp > 1000 and xp <=2000:\n",
        "    level = \"Bronze\"\n",
        "  elif xp > 2000 and xp <=5000:\n",
        "    level = \"Prata\"\n",
        "  elif xp > 5000 and xp <= 7000:\n",
        "    level = \"Ouro\"\n",
        "  elif xp > 7000 and xp <= 8000:\n",
        "    level = \"Platina\"\n",
        "  elif xp > 8000 and xp <=9000:\n",
        "    level = \"Ascendente\"\n",
        "  elif xp > 9000 and xp <=10000:\n",
        "    level = \"Imortal\"\n",
        "  else:\n",
        "    level = \"Radiante\"\n",
        "  return level"
      ],
      "metadata": {
        "id": "EfHF4n4hWFH3"
      },
      "execution_count": 8,
      "outputs": []
    },
    {
      "cell_type": "code",
      "source": [
        "# Digite o nome e a experiência do Herói. O Desafio não deixa claro se a pessoa deve digitar ou deve aparecer alguma entrada\n",
        "# aqui a pessoa deve digitar\n",
        "\n",
        "HeroName = \"Jozé\"\n",
        "HeroXP = 1000\n",
        "HeroLevel = GetHeroLevel(HeroXP)\n",
        "\n",
        "print(\"O Herói de nome \" + HeroName +\" está no nível de \"+ HeroLevel)"
      ],
      "metadata": {
        "colab": {
          "base_uri": "https://localhost:8080/"
        },
        "id": "Txliwm5RXUTo",
        "outputId": "b01c4d48-798a-4188-f7d9-9fd622297d3e"
      },
      "execution_count": 10,
      "outputs": [
        {
          "output_type": "stream",
          "name": "stdout",
          "text": [
            "O Herói de nome Jozé está no nível de Bronze\n"
          ]
        }
      ]
    },
    {
      "cell_type": "code",
      "source": [
        "# Testes mudando as variáveis\n",
        "\n",
        "HeroName = \"Mariana\"\n",
        "HeroXP = 58937\n",
        "HeroLevel = GetHeroLevel(HeroXP)\n",
        "\n",
        "print(\"O Herói de nome \" + HeroName +\" está no nível de \"+ HeroLevel)"
      ],
      "metadata": {
        "colab": {
          "base_uri": "https://localhost:8080/"
        },
        "id": "OwD87AtpYH9K",
        "outputId": "f3f5491c-9732-4208-e2a6-4d8170b643a8"
      },
      "execution_count": 11,
      "outputs": [
        {
          "output_type": "stream",
          "name": "stdout",
          "text": [
            "O Herói de nome Mariana está no nível de Radiante\n"
          ]
        }
      ]
    },
    {
      "cell_type": "code",
      "source": [
        "# Testes mudando as variáveis\n",
        "\n",
        "HeroName = \"DIO\"\n",
        "HeroXP = 5897\n",
        "HeroLevel = GetHeroLevel(HeroXP)\n",
        "\n",
        "print(\"O Herói de nome \" + HeroName +\" está no nível de \"+ HeroLevel)"
      ],
      "metadata": {
        "colab": {
          "base_uri": "https://localhost:8080/"
        },
        "id": "oqqZb1c9YSjx",
        "outputId": "18cec89c-eeb3-4a4f-880e-d3b3dddcb18f"
      },
      "execution_count": 12,
      "outputs": [
        {
          "output_type": "stream",
          "name": "stdout",
          "text": [
            "O Herói de nome DIO está no nível de Ouro\n"
          ]
        }
      ]
    },
    {
      "cell_type": "code",
      "source": [
        "# Testes mudando as variáveis\n",
        "\n",
        "HeroName = \"Dog\"\n",
        "HeroXP = 10000\n",
        "HeroLevel = GetHeroLevel(HeroXP)\n",
        "\n",
        "print(\"O Herói de nome \" + HeroName +\" está no nível de \"+ HeroLevel)"
      ],
      "metadata": {
        "colab": {
          "base_uri": "https://localhost:8080/"
        },
        "id": "g-m5bJB-YYQR",
        "outputId": "58b98d2d-e602-4be1-d585-8a2385807c7c"
      },
      "execution_count": 13,
      "outputs": [
        {
          "output_type": "stream",
          "name": "stdout",
          "text": [
            "O Herói de nome Dog está no nível de Imortal\n"
          ]
        }
      ]
    }
  ]
}